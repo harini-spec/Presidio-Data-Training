{
 "cells": [
  {
   "cell_type": "code",
   "execution_count": 1,
   "id": "981e9d7f-2144-4e99-9bd9-c2b96aacb12f",
   "metadata": {},
   "outputs": [],
   "source": [
    "from pyspark.sql import SparkSession"
   ]
  },
  {
   "cell_type": "code",
   "execution_count": 2,
   "id": "bb8bee13-6682-4464-ae38-9ad8b044dfa2",
   "metadata": {},
   "outputs": [],
   "source": [
    "spark = SparkSession \\\n",
    "    .builder \\\n",
    "    .appName(\"PySparkAssignment\") \\\n",
    "    .getOrCreate()"
   ]
  },
  {
   "cell_type": "code",
   "execution_count": 3,
   "id": "4a9e4519-054d-49b8-a178-8152bccc50c4",
   "metadata": {},
   "outputs": [
    {
     "name": "stdout",
     "output_type": "stream",
     "text": [
      "+----------+------------------+--------+---------+---------------------+-----+-------------------------+---------+----------+-------------+\n",
      "|      Date|Name of State / UT|Latitude|Longitude|Total Confirmed cases|Death|Cured/Discharged/Migrated|New cases|New deaths|New recovered|\n",
      "+----------+------------------+--------+---------+---------------------+-----+-------------------------+---------+----------+-------------+\n",
      "|30-01-2020|            Kerala| 10.8505|  76.2711|                    1|    0|                        0|        0|         0|            0|\n",
      "|31-01-2020|            Kerala| 10.8505|  76.2711|                    1|    0|                        0|        0|         0|            0|\n",
      "|01-02-2020|            Kerala| 10.8505|  76.2711|                    2|    0|                        0|        1|         0|            0|\n",
      "|02-02-2020|            Kerala| 10.8505|  76.2711|                    3|    0|                        0|        1|         0|            0|\n",
      "|03-02-2020|            Kerala| 10.8505|  76.2711|                    3|    0|                        0|        0|         0|            0|\n",
      "+----------+------------------+--------+---------+---------------------+-----+-------------------------+---------+----------+-------------+\n",
      "only showing top 5 rows\n",
      "\n"
     ]
    }
   ],
   "source": [
    "df = spark.read.option(\"header\",True) \\\n",
    "    .option(\"inferSchema\",True) \\\n",
    "    .csv(\"CovidData.csv\")\n",
    "\n",
    "df.show(5)"
   ]
  },
  {
   "cell_type": "code",
   "execution_count": 4,
   "id": "8a251747-ff39-4c8f-9f43-9c3122edab64",
   "metadata": {},
   "outputs": [],
   "source": [
    "# df.select('Name of State / UT').collect() "
   ]
  },
  {
   "cell_type": "markdown",
   "id": "a3c6d2b9-f9a4-429e-84ee-9bc88767fa1b",
   "metadata": {},
   "source": [
    "### 1. Convert all state names to lower case"
   ]
  },
  {
   "cell_type": "code",
   "execution_count": 5,
   "id": "b224f495-7971-4c70-a242-0fa8a95a3734",
   "metadata": {},
   "outputs": [
    {
     "name": "stdout",
     "output_type": "stream",
     "text": [
      "+----------+------------------+--------+---------+---------------------+-----+-------------------------+---------+----------+-------------+\n",
      "|      Date|Name of State / UT|Latitude|Longitude|Total Confirmed cases|Death|Cured/Discharged/Migrated|New cases|New deaths|New recovered|\n",
      "+----------+------------------+--------+---------+---------------------+-----+-------------------------+---------+----------+-------------+\n",
      "|30-01-2020|            kerala| 10.8505|  76.2711|                    1|    0|                        0|        0|         0|            0|\n",
      "|31-01-2020|            kerala| 10.8505|  76.2711|                    1|    0|                        0|        0|         0|            0|\n",
      "|01-02-2020|            kerala| 10.8505|  76.2711|                    2|    0|                        0|        1|         0|            0|\n",
      "|02-02-2020|            kerala| 10.8505|  76.2711|                    3|    0|                        0|        1|         0|            0|\n",
      "|03-02-2020|            kerala| 10.8505|  76.2711|                    3|    0|                        0|        0|         0|            0|\n",
      "+----------+------------------+--------+---------+---------------------+-----+-------------------------+---------+----------+-------------+\n",
      "only showing top 5 rows\n",
      "\n"
     ]
    }
   ],
   "source": [
    "from pyspark.sql.functions import col, lower\n",
    "\n",
    "df_states_lower = df.withColumn(\"Name of State / UT\", lower(col(\"Name of State / UT\")))\n",
    "df_states_lower.show(5)"
   ]
  },
  {
   "cell_type": "markdown",
   "id": "09ef6086-19e4-4e17-b33f-f841b6d27d8d",
   "metadata": {},
   "source": [
    "### 2. Day with highest number of covid cases"
   ]
  },
  {
   "cell_type": "code",
   "execution_count": 6,
   "id": "1279cbba-51ef-4b95-b742-fce96cc203a1",
   "metadata": {},
   "outputs": [
    {
     "name": "stdout",
     "output_type": "stream",
     "text": [
      "+--------------------------+\n",
      "|max(Total Confirmed cases)|\n",
      "+--------------------------+\n",
      "|                    468265|\n",
      "+--------------------------+\n",
      "\n"
     ]
    }
   ],
   "source": [
    "from pyspark.sql.functions import max\n",
    "df.select(max(df[\"Total Confirmed cases\"])).show()"
   ]
  },
  {
   "cell_type": "code",
   "execution_count": 7,
   "id": "ff839bb3-0d92-4d3b-9142-042832f24971",
   "metadata": {},
   "outputs": [
    {
     "data": {
      "text/plain": [
       "468265"
      ]
     },
     "execution_count": 7,
     "metadata": {},
     "output_type": "execute_result"
    }
   ],
   "source": [
    "df.select(max(df[\"Total Confirmed cases\"])).collect()[0][0]"
   ]
  },
  {
   "cell_type": "code",
   "execution_count": 8,
   "id": "b18e110e-031d-43bd-947d-d83e86123dbc",
   "metadata": {},
   "outputs": [
    {
     "name": "stdout",
     "output_type": "stream",
     "text": [
      "+----------------------------------+\n",
      "|Day with Highest No of covid cases|\n",
      "+----------------------------------+\n",
      "|                        06-08-2020|\n",
      "+----------------------------------+\n",
      "\n"
     ]
    }
   ],
   "source": [
    "from pyspark.sql.functions import col, max\n",
    "\n",
    "max_cases_df = df.filter(col(\"Total Confirmed cases\") == df.select(max(df[\"Total Confirmed cases\"])).collect()[0][0])\n",
    "date_df = max_cases_df.select(df[\"Date\"].alias(\"Day with Highest No of covid cases\")).show()\n",
    "date_df"
   ]
  },
  {
   "cell_type": "markdown",
   "id": "73626c01-3603-4558-8189-7ac066b38bd8",
   "metadata": {},
   "source": [
    "### 3. State with second largest number of covid cases"
   ]
  },
  {
   "cell_type": "code",
   "execution_count": 9,
   "id": "cda804de-b305-4628-9dac-04f045d3bb25",
   "metadata": {},
   "outputs": [
    {
     "data": {
      "text/plain": [
       "'Maharashtra'"
      ]
     },
     "execution_count": 9,
     "metadata": {},
     "output_type": "execute_result"
    }
   ],
   "source": [
    "max_cases_df = df.orderBy(col(\"Total Confirmed cases\").desc()).limit(2)\n",
    "# max_cases_df.show()\n",
    "max_cases_df.select(max_cases_df[\"Name of State / UT\"]).collect()[1][0]"
   ]
  },
  {
   "cell_type": "markdown",
   "id": "f3030ebf-dcbd-43ab-a7fe-f160aed32100",
   "metadata": {},
   "source": [
    "### 4. Union Territory with least number of deaths"
   ]
  },
  {
   "cell_type": "code",
   "execution_count": 10,
   "id": "7db8de8d-2cc6-454e-9caf-704282e7a260",
   "metadata": {},
   "outputs": [
    {
     "name": "stdout",
     "output_type": "stream",
     "text": [
      "+----------+------------------+--------+---------+---------------------+-----+-------------------------+---------+----------+-------------+\n",
      "|      Date|Name of State / UT|Latitude|Longitude|Total Confirmed cases|Death|Cured/Discharged/Migrated|New cases|New deaths|New recovered|\n",
      "+----------+------------------+--------+---------+---------------------+-----+-------------------------+---------+----------+-------------+\n",
      "|18-03-2020|        Puducherry| 11.9416|  79.8083|                    1|    0|                        0|        0|         0|            0|\n",
      "|19-03-2020|        Puducherry| 11.9416|  79.8083|                    1|    0|                        0|        0|         0|            0|\n",
      "|20-03-2020|        Puducherry| 11.9416|  79.8083|                    1|    0|                        0|        0|         0|            0|\n",
      "|21-03-2020|        Chandigarh| 30.7333|  76.7794|                    1|    0|                        0|        0|         0|            0|\n",
      "|21-03-2020| Jammu and Kashmir| 33.7782|  76.5762|                    4|    0|                        0|        0|         0|            0|\n",
      "|21-03-2020|            Ladakh| 34.2996|  78.2932|                   13|    0|                        0|        0|         0|            0|\n",
      "|21-03-2020|        Puducherry| 11.9416|  79.8083|                    1|    0|                        0|        0|         0|            0|\n",
      "|22-03-2020|        Chandigarh| 30.7333|  76.7794|                    5|    0|                        0|        4|         0|            0|\n",
      "|22-03-2020| Jammu and Kashmir| 33.7782|  76.5762|                    4|    0|                        0|        0|         0|            0|\n",
      "|22-03-2020|            Ladakh| 34.2996|  78.2932|                   13|    0|                        0|        0|         0|            0|\n",
      "|22-03-2020|        Puducherry| 11.9416|  79.8083|                    1|    0|                        0|        0|         0|            0|\n",
      "|23-03-2020|        Chandigarh| 30.7333|  76.7794|                    6|    0|                        0|        1|         0|            0|\n",
      "|23-03-2020| Jammu and Kashmir| 33.7782|  76.5762|                    4|    0|                        0|        0|         0|            0|\n",
      "|23-03-2020|            Ladakh| 34.2996|  78.2932|                   13|    0|                        0|        0|         0|            0|\n",
      "|23-03-2020|        Puducherry| 11.9416|  79.8083|                    1|    0|                        0|        0|         0|            0|\n",
      "|24-03-2020|        Chandigarh| 30.7333|  76.7794|                    7|    0|                        0|        1|         0|            0|\n",
      "|24-03-2020| Jammu and Kashmir| 33.7782|  76.5762|                    4|    0|                        0|        0|         0|            0|\n",
      "|24-03-2020|            Ladakh| 34.2996|  78.2932|                   13|    0|                        0|        0|         0|            0|\n",
      "|24-03-2020|        Puducherry| 11.9416|  79.8083|                    1|    0|                        0|        0|         0|            0|\n",
      "|25-03-2020|        Chandigarh| 30.7333|  76.7794|                    7|    0|                        0|        0|         0|            0|\n",
      "+----------+------------------+--------+---------+---------------------+-----+-------------------------+---------+----------+-------------+\n",
      "only showing top 20 rows\n",
      "\n"
     ]
    }
   ],
   "source": [
    "# Filter UT records\n",
    "union_territories = [\"Andaman and Nicobar Islands\", \"Chandigarh\", \"Dadra and Nagar Haveli and Daman and Diu\", \"Jammu and Kashmir\", \"Ladakh\", \"Puducherry\", \"Lakshadweep\"]\n",
    "union_territory_records = df.filter(df[\"Name of State / UT\"].isin(union_territories))\n",
    "union_territory_records.show()"
   ]
  },
  {
   "cell_type": "code",
   "execution_count": 11,
   "id": "8eaee5d1-773c-444d-8fb1-a93a429bc9e2",
   "metadata": {},
   "outputs": [
    {
     "data": {
      "text/plain": [
       "datetime.date(2020, 8, 6)"
      ]
     },
     "execution_count": 11,
     "metadata": {},
     "output_type": "execute_result"
    }
   ],
   "source": [
    "# Convert date column from string to date format \n",
    "from pyspark.sql.functions import to_date, max, col\n",
    "\n",
    "UT_formatted_date_df = union_territory_records.withColumn(\"Date\", to_date(col(\"Date\"), \"dd-MM-yyyy\"))\n",
    "latest_recorded_date = UT_formatted_date_df.select(max(col(\"Date\"))).collect()[0][0]\n",
    "latest_recorded_date"
   ]
  },
  {
   "cell_type": "code",
   "execution_count": 12,
   "id": "fff26d51-0ff6-429f-b113-26539af2862b",
   "metadata": {},
   "outputs": [],
   "source": [
    "# UT_recent_records = UT_formatted_date_df.groupby(\"Name of State / UT\").agg(max(\"Date\"))\n",
    "# UT_recent_records.show()"
   ]
  },
  {
   "cell_type": "code",
   "execution_count": 13,
   "id": "537fe1cb-d8b0-4633-8d32-0bdf326051ed",
   "metadata": {},
   "outputs": [
    {
     "name": "stdout",
     "output_type": "stream",
     "text": [
      "+----------+--------------------+--------+---------+---------------------+-----+-------------------------+---------+----------+-------------+\n",
      "|      Date|  Name of State / UT|Latitude|Longitude|Total Confirmed cases|Death|Cured/Discharged/Migrated|New cases|New deaths|New recovered|\n",
      "+----------+--------------------+--------+---------+---------------------+-----+-------------------------+---------+----------+-------------+\n",
      "|2020-08-06|Andaman and Nicob...| 11.7401|  92.6586|                 1027|   14|                      326|       99|         0|           49|\n",
      "|2020-08-06|          Chandigarh| 30.7333|  76.7794|                 1270|   20|                      715|       64|         0|            0|\n",
      "|2020-08-06|Dadra and Nagar H...| 20.1809|  73.0169|                 1366|    2|                      960|       41|         0|           41|\n",
      "|2020-08-06|   Jammu and Kashmir| 33.7782|  76.5762|                22955|  426|                    15244|      559|         0|          388|\n",
      "|2020-08-06|              Ladakh| 34.2996|  78.2932|                 1592|    7|                     1164|       58|         0|           37|\n",
      "|2020-08-06|          Puducherry| 11.9416|  79.8083|                 4433|   65|                     2668|      286|         0|          131|\n",
      "+----------+--------------------+--------+---------+---------------------+-----+-------------------------+---------+----------+-------------+\n",
      "\n"
     ]
    }
   ],
   "source": [
    "# Get Latest UT records \n",
    "UT_recent_records = UT_formatted_date_df.filter(col(\"Date\") == latest_recorded_date)\n",
    "UT_recent_records.show()"
   ]
  },
  {
   "cell_type": "code",
   "execution_count": 14,
   "id": "72c84e32-f0b0-499d-943c-6986c1b53f43",
   "metadata": {},
   "outputs": [
    {
     "data": {
      "text/plain": [
       "IntegerType()"
      ]
     },
     "execution_count": 14,
     "metadata": {},
     "output_type": "execute_result"
    }
   ],
   "source": [
    "from pyspark.sql.types import IntegerType\n",
    "\n",
    "# Convert Death column to int type\n",
    "UT_recent_records = UT_recent_records.withColumn(\"Death\", col(\"Death\").cast(IntegerType()))\n",
    "UT_recent_records.schema[\"Death\"].dataType"
   ]
  },
  {
   "cell_type": "code",
   "execution_count": 15,
   "id": "869651cf-aab0-4fe0-bc41-9fa1eda9d623",
   "metadata": {},
   "outputs": [],
   "source": [
    "# # Group UTs and Get death sum\n",
    "# sum_of_deaths_in_union_territories = union_territory_records.groupBy(\"Name of State / UT\").sum(\"Death\")\n",
    "# sum_of_deaths_in_union_territories.show()"
   ]
  },
  {
   "cell_type": "code",
   "execution_count": 16,
   "id": "7fb96c24-ddae-4bf3-b98a-d6a848950635",
   "metadata": {},
   "outputs": [],
   "source": [
    "# from pyspark.sql.functions import col, min\n",
    "\n",
    "# least_death_UT = sum_of_deaths_in_union_territories.filter(col(\"sum(Death)\") == sum_of_deaths_in_union_territories.select(min(sum_of_deaths_in_union_territories[\"sum(Death)\"])).collect()[0][0])\n",
    "# least_death_UT.select(col(\"Name of State / UT\").alias(\"Union Territory with least deaths\")).show()"
   ]
  },
  {
   "cell_type": "code",
   "execution_count": 17,
   "id": "f0d20f44-10b4-4468-8585-9b155fe14886",
   "metadata": {},
   "outputs": [
    {
     "name": "stdout",
     "output_type": "stream",
     "text": [
      "+---------------------------------+\n",
      "|Union Territory with least deaths|\n",
      "+---------------------------------+\n",
      "|             Dadra and Nagar H...|\n",
      "+---------------------------------+\n",
      "\n"
     ]
    }
   ],
   "source": [
    "from pyspark.sql.functions import col, min\n",
    "\n",
    "# Select UT with least deaths\n",
    "least_death_UT = UT_recent_records.filter(col(\"Death\") == UT_recent_records.select(min(UT_recent_records[\"Death\"])).collect()[0][0])\n",
    "least_death_UT.select(col(\"Name of State / UT\").alias(\"Union Territory with least deaths\")).show()"
   ]
  },
  {
   "cell_type": "markdown",
   "id": "2e53e7b7-1436-485f-8c53-018d1cf4f2e6",
   "metadata": {},
   "source": [
    "### 5. State with Lowest Death to Total confirmed cases ratio"
   ]
  },
  {
   "cell_type": "code",
   "execution_count": 18,
   "id": "41f8db43-8a3f-480b-bba7-37912c354ee9",
   "metadata": {},
   "outputs": [
    {
     "name": "stdout",
     "output_type": "stream",
     "text": [
      "+----------+--------------------+--------+---------+---------------------+-----+-------------------------+---------+----------+-------------+\n",
      "|      Date|  Name of State / UT|Latitude|Longitude|Total Confirmed cases|Death|Cured/Discharged/Migrated|New cases|New deaths|New recovered|\n",
      "+----------+--------------------+--------+---------+---------------------+-----+-------------------------+---------+----------+-------------+\n",
      "|2020-08-06|Andaman and Nicob...| 11.7401|  92.6586|                 1027|   14|                      326|       99|         0|           49|\n",
      "|2020-08-06|      Andhra Pradesh| 15.9129|    79.74|               186461| 1681|                   104354|    10128|         0|         8729|\n",
      "|2020-08-06|   Arunachal Pradesh|  28.218|  94.7278|                 1855|    3|                     1210|       65|         0|          105|\n",
      "|2020-08-06|               Assam| 26.2006|  92.9376|                50445|  121|                    35892|     2284|         0|         1471|\n",
      "|2020-08-06|               Bihar| 25.0961|  85.3131|                64770|  355|                    42414|     2982|         0|         2066|\n",
      "|2020-08-06|          Chandigarh| 30.7333|  76.7794|                 1270|   20|                      715|       64|         0|            0|\n",
      "|2020-08-06|        Chhattisgarh| 21.2787|  81.8661|                10407|   71|                     7871|      205|         0|          258|\n",
      "|2020-08-06|Dadra and Nagar H...| 20.1809|  73.0169|                 1366|    2|                      960|       41|         0|           41|\n",
      "|2020-08-06|               Delhi| 28.7041|  77.1025|               140232| 4044|                   126116|     1076|         0|          890|\n",
      "|2020-08-06|                 Goa| 15.2993|   74.124|                 7423|   64|                     5287|      348|         0|          173|\n",
      "|2020-08-06|             Gujarat| 22.2587|  71.1924|                66669| 2556|                    49433|     1070|         0|         1057|\n",
      "|2020-08-06|             Haryana| 29.0588|  76.0856|                38548|  455|                    31960|      752|         0|          734|\n",
      "|2020-08-06|    Himachal Pradesh| 31.1048|  77.1734|                 2916|   14|                     1762|       37|         0|           52|\n",
      "|2020-08-06|   Jammu and Kashmir| 33.7782|  76.5762|                22955|  426|                    15244|      559|         0|          388|\n",
      "|2020-08-06|           Jharkhand| 23.6102|  85.2799|                14888|  136|                     5703|      948|         0|          539|\n",
      "|2020-08-06|           Karnataka| 15.3173|  75.7139|               151449| 2804|                    74679|     5619|         0|         5407|\n",
      "|2020-08-06|              Kerala| 10.8505|  76.2711|                29151|   94|                    17533|     1195|         0|         1234|\n",
      "|2020-08-06|              Ladakh| 34.2996|  78.2932|                 1592|    7|                     1164|       58|         0|           37|\n",
      "|2020-08-06|      Madhya Pradesh| 22.9734|  78.6569|                35734|  929|                    26064|      652|         0|          650|\n",
      "|2020-08-06|         Maharashtra| 19.7515|  75.7139|               468265|16476|                   305521|    10309|         0|         6165|\n",
      "+----------+--------------------+--------+---------+---------------------+-----+-------------------------+---------+----------+-------------+\n",
      "only showing top 20 rows\n",
      "\n"
     ]
    }
   ],
   "source": [
    "# UT_recent_records.select(min(UT_recent_records[\"Death\"])).show()\n",
    "Date_Formatted_df = df.withColumn(\"Date\", to_date(col(\"Date\"), \"dd-MM-yyyy\"))\n",
    "latest_records = Date_Formatted_df.filter(col(\"Date\") == latest_recorded_date)\n",
    "latest_records.show()"
   ]
  },
  {
   "cell_type": "code",
   "execution_count": 19,
   "id": "803935df-88a6-422a-80f9-6567873ad17c",
   "metadata": {},
   "outputs": [
    {
     "name": "stdout",
     "output_type": "stream",
     "text": [
      "+----------+--------------------+--------+---------+---------------------+-----+-------------------------+---------+----------+-------------+------------------------+\n",
      "|      Date|  Name of State / UT|Latitude|Longitude|Total Confirmed cases|Death|Cured/Discharged/Migrated|New cases|New deaths|New recovered|Death To Confirmed Ratio|\n",
      "+----------+--------------------+--------+---------+---------------------+-----+-------------------------+---------+----------+-------------+------------------------+\n",
      "|2020-08-06|Andaman and Nicob...| 11.7401|  92.6586|                 1027|   14|                      326|       99|         0|           49|    0.013631937682570594|\n",
      "|2020-08-06|      Andhra Pradesh| 15.9129|    79.74|               186461| 1681|                   104354|    10128|         0|         8729|    0.009015290060656116|\n",
      "|2020-08-06|   Arunachal Pradesh|  28.218|  94.7278|                 1855|    3|                     1210|       65|         0|          105|    0.001617250673854...|\n",
      "|2020-08-06|               Assam| 26.2006|  92.9376|                50445|  121|                    35892|     2284|         0|         1471|    0.002398651997224...|\n",
      "|2020-08-06|               Bihar| 25.0961|  85.3131|                64770|  355|                    42414|     2982|         0|         2066|    0.005480932530492512|\n",
      "|2020-08-06|          Chandigarh| 30.7333|  76.7794|                 1270|   20|                      715|       64|         0|            0|    0.015748031496062992|\n",
      "|2020-08-06|        Chhattisgarh| 21.2787|  81.8661|                10407|   71|                     7871|      205|         0|          258|    0.006822331123282406|\n",
      "|2020-08-06|Dadra and Nagar H...| 20.1809|  73.0169|                 1366|    2|                      960|       41|         0|           41|    0.001464128843338...|\n",
      "|2020-08-06|               Delhi| 28.7041|  77.1025|               140232| 4044|                   126116|     1076|         0|          890|    0.028837925723087455|\n",
      "|2020-08-06|                 Goa| 15.2993|   74.124|                 7423|   64|                     5287|      348|         0|          173|    0.008621851003637344|\n",
      "|2020-08-06|             Gujarat| 22.2587|  71.1924|                66669| 2556|                    49433|     1070|         0|         1057|    0.038338658146964855|\n",
      "|2020-08-06|             Haryana| 29.0588|  76.0856|                38548|  455|                    31960|      752|         0|          734|    0.011803465808861678|\n",
      "|2020-08-06|    Himachal Pradesh| 31.1048|  77.1734|                 2916|   14|                     1762|       37|         0|           52|    0.004801097393689987|\n",
      "|2020-08-06|   Jammu and Kashmir| 33.7782|  76.5762|                22955|  426|                    15244|      559|         0|          388|     0.01855804835547811|\n",
      "|2020-08-06|           Jharkhand| 23.6102|  85.2799|                14888|  136|                     5703|      948|         0|          539|    0.009134873723804407|\n",
      "|2020-08-06|           Karnataka| 15.3173|  75.7139|               151449| 2804|                    74679|     5619|         0|         5407|    0.018514483423462683|\n",
      "|2020-08-06|              Kerala| 10.8505|  76.2711|                29151|   94|                    17533|     1195|         0|         1234|    0.003224589207917...|\n",
      "|2020-08-06|              Ladakh| 34.2996|  78.2932|                 1592|    7|                     1164|       58|         0|           37|    0.004396984924623...|\n",
      "|2020-08-06|      Madhya Pradesh| 22.9734|  78.6569|                35734|  929|                    26064|      652|         0|          650|     0.02599764929758773|\n",
      "|2020-08-06|         Maharashtra| 19.7515|  75.7139|               468265|16476|                   305521|    10309|         0|         6165|    0.035185204958730634|\n",
      "+----------+--------------------+--------+---------+---------------------+-----+-------------------------+---------+----------+-------------+------------------------+\n",
      "only showing top 20 rows\n",
      "\n"
     ]
    }
   ],
   "source": [
    "fomatted_latest_records_df = latest_records.withColumn(\"Death\", col(\"Death\").cast(IntegerType()))\n",
    "latest_with_ratio_df = fomatted_latest_records_df.withColumn(\"Death To Confirmed Ratio\", (col(\"Death\") / col(\"Total Confirmed cases\")))\n",
    "latest_with_ratio_df.show()"
   ]
  },
  {
   "cell_type": "code",
   "execution_count": 20,
   "id": "15715792-aa56-4efa-ac0f-9b951e5d4cef",
   "metadata": {},
   "outputs": [
    {
     "name": "stdout",
     "output_type": "stream",
     "text": [
      "+----------+------------------+--------+---------+---------------------+-----+-------------------------+---------+----------+-------------+------------------------+\n",
      "|      Date|Name of State / UT|Latitude|Longitude|Total Confirmed cases|Death|Cured/Discharged/Migrated|New cases|New deaths|New recovered|Death To Confirmed Ratio|\n",
      "+----------+------------------+--------+---------+---------------------+-----+-------------------------+---------+----------+-------------+------------------------+\n",
      "|2020-08-06|           Mizoram| 23.1645|  92.9376|                  537|    0|                      286|       33|         0|            4|                     0.0|\n",
      "+----------+------------------+--------+---------+---------------------+-----+-------------------------+---------+----------+-------------+------------------------+\n",
      "\n"
     ]
    }
   ],
   "source": [
    "state_with_least_death_to_confirmed_ratio = latest_with_ratio_df.orderBy(col(\"Death To Confirmed Ratio\").asc()).limit(1)\n",
    "state_with_least_death_to_confirmed_ratio.show()"
   ]
  },
  {
   "cell_type": "code",
   "execution_count": 21,
   "id": "e5f8571a-49c2-49a2-aab0-c2739daf1521",
   "metadata": {},
   "outputs": [
    {
     "name": "stdout",
     "output_type": "stream",
     "text": [
      "+-----------------------------------------+\n",
      "|State with least death to confirmed Ratio|\n",
      "+-----------------------------------------+\n",
      "|                                  Mizoram|\n",
      "+-----------------------------------------+\n",
      "\n"
     ]
    }
   ],
   "source": [
    "state_with_least_death_to_confirmed_ratio.select(col(\"Name of State / UT\").alias(\"State with least death to confirmed Ratio\")).show()"
   ]
  },
  {
   "cell_type": "markdown",
   "id": "613bf10f-01f5-47c2-93f1-3df107e0a63d",
   "metadata": {},
   "source": [
    "### 6. Month with more Newer Recovered cases"
   ]
  },
  {
   "cell_type": "code",
   "execution_count": 22,
   "id": "da8bfaaf-771f-4a62-87e9-284f96cda1ad",
   "metadata": {},
   "outputs": [
    {
     "name": "stdout",
     "output_type": "stream",
     "text": [
      "+-----------+------------------+\n",
      "|month(Date)|sum(New recovered)|\n",
      "+-----------+------------------+\n",
      "|          1|                 0|\n",
      "|          6|            247662|\n",
      "|          3|               124|\n",
      "|          5|             78659|\n",
      "|          4|              8201|\n",
      "|          8|            270531|\n",
      "|          7|            722983|\n",
      "|          2|                 0|\n",
      "+-----------+------------------+\n",
      "\n"
     ]
    }
   ],
   "source": [
    "from pyspark.sql.functions import month, sum\n",
    "\n",
    "# UT_recent_records = UT_formatted_date_df.groupby(\"Name of State / UT\").agg(max(\"Date\"))\n",
    "groupedby_month_df = Date_Formatted_df.groupby(month(Date_Formatted_df[\"Date\"])).sum(\"New recovered\")\n",
    "groupedby_month_df.show()"
   ]
  },
  {
   "cell_type": "code",
   "execution_count": 23,
   "id": "ac847e7e-8968-4236-b0c9-f013bfa7de52",
   "metadata": {},
   "outputs": [
    {
     "data": {
      "text/plain": [
       "722983"
      ]
     },
     "execution_count": 23,
     "metadata": {},
     "output_type": "execute_result"
    }
   ],
   "source": [
    "max_new_recovered = groupedby_month_df.select(max(col(\"sum(New recovered)\"))).collect()[0][0]\n",
    "max_new_recovered"
   ]
  },
  {
   "cell_type": "code",
   "execution_count": 24,
   "id": "06a9e85c-561b-4e8d-a8d1-7d76d5023a80",
   "metadata": {},
   "outputs": [
    {
     "name": "stdout",
     "output_type": "stream",
     "text": [
      "+-----------+------------------+\n",
      "|month(Date)|sum(New recovered)|\n",
      "+-----------+------------------+\n",
      "|          7|            722983|\n",
      "+-----------+------------------+\n",
      "\n"
     ]
    }
   ],
   "source": [
    "months_list = [\"January\", \"February\", \"March\", \"April\", \"May\", \"June\", \"July\", \"August\", \"September\", \"October\", \"November\", \"December\"]\n",
    "max_new_recovered_record = groupedby_month_df.filter(col(\"sum(New recovered)\") == max_new_recovered)\n",
    "max_new_recovered_record.show()"
   ]
  },
  {
   "cell_type": "code",
   "execution_count": 25,
   "id": "86fcdea1-04a8-4609-b5f4-4138525b4553",
   "metadata": {},
   "outputs": [
    {
     "data": {
      "text/plain": [
       "'July'"
      ]
     },
     "execution_count": 25,
     "metadata": {},
     "output_type": "execute_result"
    }
   ],
   "source": [
    "max_new_recovered_month = max_new_recovered_record.select(col(\"month(Date)\")).collect()[0][0]\n",
    "months_list[max_new_recovered_month-1]"
   ]
  },
  {
   "cell_type": "code",
   "execution_count": null,
   "id": "d2270e8a-4739-463b-8d47-f11ee78755e5",
   "metadata": {},
   "outputs": [],
   "source": []
  }
 ],
 "metadata": {
  "kernelspec": {
   "display_name": "Python 3 (ipykernel)",
   "language": "python",
   "name": "python3"
  },
  "language_info": {
   "codemirror_mode": {
    "name": "ipython",
    "version": 3
   },
   "file_extension": ".py",
   "mimetype": "text/x-python",
   "name": "python",
   "nbconvert_exporter": "python",
   "pygments_lexer": "ipython3",
   "version": "3.12.4"
  }
 },
 "nbformat": 4,
 "nbformat_minor": 5
}
